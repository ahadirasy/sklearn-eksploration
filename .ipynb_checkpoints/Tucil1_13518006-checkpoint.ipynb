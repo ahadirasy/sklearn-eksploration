{
 "cells": [
  {
   "cell_type": "markdown",
   "id": "prepared-debate",
   "metadata": {},
   "source": [
    "# **Tugas Kecil 1 Eksplorasi library Scikit-learn pada Jupyter Notebook**\n",
    "## IF3270 Mechine Learning 2021\n",
    "\n",
    "Ahadi Ihsan Rasyidin 13518006\\\n",
    "Bagas Setyo Wicaksono 13518042"
   ]
  },
  {
   "cell_type": "code",
   "execution_count": 188,
   "id": "special-assurance",
   "metadata": {},
   "outputs": [],
   "source": [
    "# importing and prepare dataset\n",
    "import numpy as np;\n",
    "import pandas as pd;\n",
    "\n",
    "# breast cancer dataset\n",
    "from sklearn.datasets import load_breast_cancer;\n",
    "cancer = load_breast_cancer();\n",
    "\n",
    "# play tennis dataset\n",
    "tennis = pd.read_csv(\"Mechine Learning/Play Tennis.csv\");\n"
   ]
  },
  {
   "cell_type": "code",
   "execution_count": 190,
   "id": "caring-malawi",
   "metadata": {},
   "outputs": [],
   "source": [
    "# encode play tennis data to integer\n",
    "from sklearn import preprocessing\n",
    "str_to_int = preprocessing.LabelEncoder();\n",
    "tennis = tennis.apply(str_to_int.fit_transform)"
   ]
  },
  {
   "cell_type": "markdown",
   "id": "thorough-education",
   "metadata": {},
   "source": [
    "<h2> Dataset Preview </h2>"
   ]
  },
  {
   "cell_type": "code",
   "execution_count": 191,
   "id": "continuing-cholesterol",
   "metadata": {},
   "outputs": [
    {
     "name": "stdout",
     "output_type": "stream",
     "text": [
      ".. _breast_cancer_dataset:\n",
      "\n",
      "Breast cancer wisconsin (diagnostic) dataset\n",
      "--------------------------------------------\n",
      "\n",
      "**Data Set Characteristics:**\n",
      "\n",
      "    :Number of Instances: 569\n",
      "\n",
      "    :Number of Attributes: 30 numeric, predictive attributes and the class\n",
      "\n",
      "    :Attribute Information:\n",
      "        - radius (mean of distances from center to points on the perimeter)\n",
      "        - texture (standard deviation of gray-scale values)\n",
      "        - perimeter\n",
      "        - area\n",
      "        - smoothness (local variation in radius lengths)\n",
      "        - compactness (perimeter^2 / area - 1.0)\n",
      "        - concavity (severity of concave portions of the contour)\n",
      "        - concave points (number of concave portions of the contour)\n",
      "        - symmetry\n",
      "        - fractal dimension (\"coastline approximation\" - 1)\n",
      "\n",
      "        The mean, standard error, and \"worst\" or largest (mean of the three\n",
      "        worst/largest values) of these features were computed for each image,\n",
      "        resulting in 30 features.  For instance, field 0 is Mean Radius, field\n",
      "        10 is Radius SE, field 20 is Worst Radius.\n",
      "\n",
      "        - class:\n",
      "                - WDBC-Malignant\n",
      "                - WDBC-Benign\n",
      "\n",
      "    :Summary Statistics:\n",
      "\n",
      "    ===================================== ====== ======\n",
      "                                           Min    Max\n",
      "    ===================================== ====== ======\n",
      "    radius (mean):                        6.981  28.11\n",
      "    texture (mean):                       9.71   39.28\n",
      "    perimeter (mean):                     43.79  188.5\n",
      "    area (mean):                          143.5  2501.0\n",
      "    smoothness (mean):                    0.053  0.163\n",
      "    compactness (mean):                   0.019  0.345\n",
      "    concavity (mean):                     0.0    0.427\n",
      "    concave points (mean):                0.0    0.201\n",
      "    symmetry (mean):                      0.106  0.304\n",
      "    fractal dimension (mean):             0.05   0.097\n",
      "    radius (standard error):              0.112  2.873\n",
      "    texture (standard error):             0.36   4.885\n",
      "    perimeter (standard error):           0.757  21.98\n",
      "    area (standard error):                6.802  542.2\n",
      "    smoothness (standard error):          0.002  0.031\n",
      "    compactness (standard error):         0.002  0.135\n",
      "    concavity (standard error):           0.0    0.396\n",
      "    concave points (standard error):      0.0    0.053\n",
      "    symmetry (standard error):            0.008  0.079\n",
      "    fractal dimension (standard error):   0.001  0.03\n",
      "    radius (worst):                       7.93   36.04\n",
      "    texture (worst):                      12.02  49.54\n",
      "    perimeter (worst):                    50.41  251.2\n",
      "    area (worst):                         185.2  4254.0\n",
      "    smoothness (worst):                   0.071  0.223\n",
      "    compactness (worst):                  0.027  1.058\n",
      "    concavity (worst):                    0.0    1.252\n",
      "    concave points (worst):               0.0    0.291\n",
      "    symmetry (worst):                     0.156  0.664\n",
      "    fractal dimension (worst):            0.055  0.208\n",
      "    ===================================== ====== ======\n",
      "\n",
      "    :Missing Attribute Values: None\n",
      "\n",
      "    :Class Distribution: 212 - Malignant, 357 - Benign\n",
      "\n",
      "    :Creator:  Dr. William H. Wolberg, W. Nick Street, Olvi L. Mangasarian\n",
      "\n",
      "    :Donor: Nick Street\n",
      "\n",
      "    :Date: November, 1995\n",
      "\n",
      "This is a copy of UCI ML Breast Cancer Wisconsin (Diagnostic) datasets.\n",
      "https://goo.gl/U2Uwz2\n",
      "\n",
      "Features are computed from a digitized image of a fine needle\n",
      "aspirate (FNA) of a breast mass.  They describe\n",
      "characteristics of the cell nuclei present in the image.\n",
      "\n",
      "Separating plane described above was obtained using\n",
      "Multisurface Method-Tree (MSM-T) [K. P. Bennett, \"Decision Tree\n",
      "Construction Via Linear Programming.\" Proceedings of the 4th\n",
      "Midwest Artificial Intelligence and Cognitive Science Society,\n",
      "pp. 97-101, 1992], a classification method which uses linear\n",
      "programming to construct a decision tree.  Relevant features\n",
      "were selected using an exhaustive search in the space of 1-4\n",
      "features and 1-3 separating planes.\n",
      "\n",
      "The actual linear program used to obtain the separating plane\n",
      "in the 3-dimensional space is that described in:\n",
      "[K. P. Bennett and O. L. Mangasarian: \"Robust Linear\n",
      "Programming Discrimination of Two Linearly Inseparable Sets\",\n",
      "Optimization Methods and Software 1, 1992, 23-34].\n",
      "\n",
      "This database is also available through the UW CS ftp server:\n",
      "\n",
      "ftp ftp.cs.wisc.edu\n",
      "cd math-prog/cpo-dataset/machine-learn/WDBC/\n",
      "\n",
      ".. topic:: References\n",
      "\n",
      "   - W.N. Street, W.H. Wolberg and O.L. Mangasarian. Nuclear feature extraction \n",
      "     for breast tumor diagnosis. IS&T/SPIE 1993 International Symposium on \n",
      "     Electronic Imaging: Science and Technology, volume 1905, pages 861-870,\n",
      "     San Jose, CA, 1993.\n",
      "   - O.L. Mangasarian, W.N. Street and W.H. Wolberg. Breast cancer diagnosis and \n",
      "     prognosis via linear programming. Operations Research, 43(4), pages 570-577, \n",
      "     July-August 1995.\n",
      "   - W.H. Wolberg, W.N. Street, and O.L. Mangasarian. Machine learning techniques\n",
      "     to diagnose breast cancer from fine-needle aspirates. Cancer Letters 77 (1994) \n",
      "     163-171.\n"
     ]
    }
   ],
   "source": [
    "print(cancer.DESCR);"
   ]
  },
  {
   "cell_type": "code",
   "execution_count": 189,
   "id": "indoor-bacon",
   "metadata": {},
   "outputs": [
    {
     "data": {
      "text/html": [
       "<div>\n",
       "<style scoped>\n",
       "    .dataframe tbody tr th:only-of-type {\n",
       "        vertical-align: middle;\n",
       "    }\n",
       "\n",
       "    .dataframe tbody tr th {\n",
       "        vertical-align: top;\n",
       "    }\n",
       "\n",
       "    .dataframe thead th {\n",
       "        text-align: right;\n",
       "    }\n",
       "</style>\n",
       "<table border=\"1\" class=\"dataframe\">\n",
       "  <thead>\n",
       "    <tr style=\"text-align: right;\">\n",
       "      <th></th>\n",
       "      <th>Day</th>\n",
       "      <th>Outlook</th>\n",
       "      <th>Temprature</th>\n",
       "      <th>Humidity</th>\n",
       "      <th>Wind</th>\n",
       "      <th>Play_Tennis</th>\n",
       "    </tr>\n",
       "  </thead>\n",
       "  <tbody>\n",
       "    <tr>\n",
       "      <th>count</th>\n",
       "      <td>14</td>\n",
       "      <td>14</td>\n",
       "      <td>14</td>\n",
       "      <td>14</td>\n",
       "      <td>14</td>\n",
       "      <td>14</td>\n",
       "    </tr>\n",
       "    <tr>\n",
       "      <th>unique</th>\n",
       "      <td>14</td>\n",
       "      <td>3</td>\n",
       "      <td>3</td>\n",
       "      <td>2</td>\n",
       "      <td>2</td>\n",
       "      <td>2</td>\n",
       "    </tr>\n",
       "    <tr>\n",
       "      <th>top</th>\n",
       "      <td>D14</td>\n",
       "      <td>Sunny</td>\n",
       "      <td>Mild</td>\n",
       "      <td>Normal</td>\n",
       "      <td>Weak</td>\n",
       "      <td>Yes</td>\n",
       "    </tr>\n",
       "    <tr>\n",
       "      <th>freq</th>\n",
       "      <td>1</td>\n",
       "      <td>5</td>\n",
       "      <td>6</td>\n",
       "      <td>7</td>\n",
       "      <td>8</td>\n",
       "      <td>9</td>\n",
       "    </tr>\n",
       "  </tbody>\n",
       "</table>\n",
       "</div>"
      ],
      "text/plain": [
       "        Day Outlook Temprature Humidity  Wind Play_Tennis\n",
       "count    14      14         14       14    14          14\n",
       "unique   14       3          3        2     2           2\n",
       "top     D14   Sunny       Mild   Normal  Weak         Yes\n",
       "freq      1       5          6        7     8           9"
      ]
     },
     "execution_count": 189,
     "metadata": {},
     "output_type": "execute_result"
    }
   ],
   "source": [
    "tennis.describe()"
   ]
  },
  {
   "cell_type": "code",
   "execution_count": 192,
   "id": "variable-passport",
   "metadata": {},
   "outputs": [],
   "source": [
    "#devide dataset to attribute set and label\n",
    "\n",
    "# breast cancer dataset\n",
    "dataBC = cancer.data;\n",
    "targetBC = cancer.target;\n",
    "\n",
    "# play tennis dataset\n",
    "feature = ['Outlook', 'Temprature', 'Humidity', 'Wind'];\n",
    "dataPT = tennis[feature];\n",
    "targetPT = tennis.Play_Tennis"
   ]
  },
  {
   "cell_type": "code",
   "execution_count": 193,
   "id": "innocent-mouth",
   "metadata": {},
   "outputs": [],
   "source": [
    "# split dataset into train set (80%) and test set (20%)\n",
    "from sklearn.model_selection import train_test_split;\n",
    "\n",
    "# breast cancer dataset\n",
    "dataBC_train , dataBC_test, targetBC_train, targetBC_test = train_test_split(dataBC, targetBC, test_size=0.2, random_state=0);\n",
    "# play tennis dataset\n",
    "dataPT_train, dataPT_test, targetPT_train, targetPT_test = train_test_split(dataPT, targetPT, test_size=0.2)\n"
   ]
  },
  {
   "cell_type": "markdown",
   "id": "graduate-cornwall",
   "metadata": {},
   "source": [
    "<h2> Decision Tree Classifier </h2>"
   ]
  },
  {
   "cell_type": "markdown",
   "id": "arbitrary-noise",
   "metadata": {},
   "source": [
    "<h3> Breast Cancer Dataset </h3>"
   ]
  },
  {
   "cell_type": "code",
   "execution_count": 167,
   "id": "noble-studio",
   "metadata": {},
   "outputs": [],
   "source": [
    "from sklearn.tree import DecisionTreeClassifier;\n",
    "\n",
    "treeBC = DecisionTreeClassifier(max_depth = 3, random_state = 0);\n",
    "treeBC.fit(dataBC_train, targetBC_train);"
   ]
  },
  {
   "cell_type": "code",
   "execution_count": 168,
   "id": "electoral-venezuela",
   "metadata": {},
   "outputs": [
    {
     "data": {
      "image/png": "[encoded data removed]",
      "text/plain": [
       "<Figure size 432x288 with 1 Axes>"
      ]
     },
     "metadata": {
      "needs_background": "light"
     },
     "output_type": "display_data"
    }
   ],
   "source": [
    "from sklearn.tree import plot_tree;\n",
    "\n",
    "plot_tree(treeBC, feature_names = cancer.feature_names, fontsize = 7);"
   ]
  },
  {
   "cell_type": "code",
   "execution_count": 169,
   "id": "political-girlfriend",
   "metadata": {},
   "outputs": [
    {
     "name": "stdout",
     "output_type": "stream",
     "text": [
      "Train Accuracy =  0.9714285714285714\n",
      "Test Accuracy  =  0.9649122807017544\n"
     ]
    }
   ],
   "source": [
    "from sklearn.metrics import accuracy_score;\n",
    "targetBC_pred_train = treeBC.predict(dataBC_train);\n",
    "print(\"Train Accuracy = \", accuracy_score(targetBC_train, targetBC_pred_train));\n",
    "targetBC_pred_test = treeBC.predict(dataBC_test);\n",
    "print(\"Test Accuracy  = \", accuracy_score(targetBC_test, targetBC_pred_test));\n"
   ]
  },
  {
   "cell_type": "markdown",
   "id": "military-blackjack",
   "metadata": {},
   "source": [
    "Run for trees of depth 1-6 with Gini Impurity and Entropy Impurity"
   ]
  },
  {
   "cell_type": "code",
   "execution_count": 170,
   "id": "strategic-thesis",
   "metadata": {},
   "outputs": [
    {
     "data": {
      "image/png": "[encoded data removed]",
      "text/plain": [
       "<Figure size 432x288 with 1 Axes>"
      ]
     },
     "metadata": {
      "needs_background": "light"
     },
     "output_type": "display_data"
    }
   ],
   "source": [
    "import matplotlib.pylab as plt\n",
    "depthRange = range(1,10);\n",
    "# Entropy Impurity\n",
    "entropy_training_acc = [];\n",
    "entropy_test_acc = [];\n",
    "\n",
    "for depth in depthRange:\n",
    "    n_treeBC = DecisionTreeClassifier(criterion = 'entropy', max_depth = depth, random_state = 0);\n",
    "    n_treeBC.fit(dataBC_train, targetBC_train);\n",
    "    n_targetBC_pred_train = n_treeBC.predict(dataBC_train);\n",
    "    n_targetBC_pred_test = n_treeBC.predict(dataBC_test);\n",
    "    entropy_training_acc.append(accuracy_score(targetBC_train, n_targetBC_pred_train));\n",
    "    entropy_test_acc.append(accuracy_score(targetBC_test, n_targetBC_pred_test));\n",
    "\n",
    "# Gini Impurity\n",
    "gini_training_acc = [];\n",
    "gini_test_acc = []\n",
    "for depth in depthRange:\n",
    "    n_treeBC = DecisionTreeClassifier(criterion = 'gini', max_depth = depth, random_state = 0);\n",
    "    n_treeBC.fit(dataBC_train, targetBC_train);\n",
    "    n_targetBC_pred_train = n_treeBC.predict(dataBC_train);\n",
    "    n_targetBC_pred_test = n_treeBC.predict(dataBC_test);\n",
    "    gini_training_acc.append(accuracy_score(targetBC_train, n_targetBC_pred_train));\n",
    "    gini_test_acc.append(accuracy_score(targetBC_test, n_targetBC_pred_test));\n",
    "\n",
    "plt.plot(depthRange, entropy_training_acc, label = 'Entropy Training Set Accuracy');\n",
    "plt.plot(depthRange, entropy_test_acc, label = 'Entropy Test Set Accuracy');\n",
    "plt.plot(depthRange, gini_training_acc, label = 'Gini Training Set Accuracy');\n",
    "plt.plot(depthRange, gini_test_acc, label = 'Gini Test Set Accuracy');\n",
    "plt.xlabel('Max Depth');\n",
    "plt.ylabel('Accuracy');\n",
    "plt.legend(loc = \"upper left\", frameon=True);"
   ]
  },
  {
   "cell_type": "code",
   "execution_count": 171,
   "id": "musical-syndication",
   "metadata": {},
   "outputs": [
    {
     "data": {
      "image/png": "[encoded data removed]",
      "text/plain": [
       "<Figure size 432x288 with 1 Axes>"
      ]
     },
     "metadata": {
      "needs_background": "light"
     },
     "output_type": "display_data"
    }
   ],
   "source": [
    "from sklearn.metrics import f1_score;\n",
    "# Entropy Impurity\n",
    "entropy_training_f1Score = [];\n",
    "entropy_test_f1Score = [];\n",
    "\n",
    "for depth in depthRange:\n",
    "    n_treeBC = DecisionTreeClassifier(criterion = 'entropy', max_depth = depth, random_state = 0);\n",
    "    n_treeBC.fit(dataBC_train, targetBC_train);\n",
    "    n_targetBC_pred_train = n_treeBC.predict(dataBC_train);\n",
    "    n_targetBC_pred_test = n_treeBC.predict(dataBC_test);\n",
    "    entropy_training_f1Score.append(f1_score(targetBC_train, n_targetBC_pred_train));\n",
    "    entropy_test_f1Score.append(f1_score(targetBC_test, n_targetBC_pred_test));\n",
    "\n",
    "# Gini Impurity\n",
    "gini_training_f1Score = [];\n",
    "gini_test_f1Score = []\n",
    "for depth in depthRange:\n",
    "    m_treeBC = DecisionTreeClassifier(criterion = 'gini', max_depth = depth, random_state = 0);\n",
    "    m_treeBC.fit(dataBC_train, targetBC_train);\n",
    "    m_targetBC_pred_train = m_treeBC.predict(dataBC_train);\n",
    "    m_targetBC_pred_test = m_treeBC.predict(dataBC_test);\n",
    "    gini_training_f1Score.append(f1_score(targetBC_train, m_targetBC_pred_train));\n",
    "    gini_test_f1Score.append(f1_score(targetBC_test, m_targetBC_pred_test));\n",
    "\n",
    "plt.plot(depthRange, entropy_training_f1Score, label = 'Entropy Training Set Accuracy');\n",
    "plt.plot(depthRange, entropy_test_f1Score, label = 'Entropy Test Set Accuracy');\n",
    "plt.plot(depthRange, gini_training_f1Score, label = 'Gini Training Set Accuracy');\n",
    "plt.plot(depthRange, gini_test_f1Score, label = 'Gini Test Set Accuracy');\n",
    "plt.xlabel('Max Depth');\n",
    "plt.ylabel('Accuracy');\n",
    "plt.legend(loc = \"upper left\", frameon=True);"
   ]
  },
  {
   "cell_type": "markdown",
   "id": "conditional-nylon",
   "metadata": {},
   "source": [
    "<h3> Play Tennis Dataset </h3>"
   ]
  },
  {
   "cell_type": "code",
   "execution_count": 256,
   "id": "northern-concentration",
   "metadata": {},
   "outputs": [
    {
     "name": "stdout",
     "output_type": "stream",
     "text": [
      "Train Accuracy =  1.0\n",
      "Test Accuracy  =  1.0\n"
     ]
    }
   ],
   "source": [
    "treePT = DecisionTreeClassifier(criterion = 'entropy');\n",
    "treePT.fit(dataPT_train, targetPT_train);\n",
    "targetPT_pred_train = treePT.predict(dataPT_train);\n",
    "targetPT_pred_test = treePT.predict(dataPT_test);\n",
    "print(\"Train Accuracy = \", accuracy_score(targetPT_train, targetPT_pred_train));\n",
    "print(\"Test Accuracy  = \", accuracy_score(targetPT_test, targetPT_pred_test));\n"
   ]
  },
  {
   "cell_type": "code",
   "execution_count": 257,
   "id": "enhanced-killer",
   "metadata": {},
   "outputs": [
    {
     "name": "stdout",
     "output_type": "stream",
     "text": [
      "              precision    recall  f1-score   support\n",
      "\n",
      "           0       1.00      1.00      1.00         4\n",
      "           1       1.00      1.00      1.00         7\n",
      "\n",
      "    accuracy                           1.00        11\n",
      "   macro avg       1.00      1.00      1.00        11\n",
      "weighted avg       1.00      1.00      1.00        11\n",
      "\n",
      "\n",
      "\n",
      "              precision    recall  f1-score   support\n",
      "\n",
      "           0       1.00      1.00      1.00         1\n",
      "           1       1.00      1.00      1.00         2\n",
      "\n",
      "    accuracy                           1.00         3\n",
      "   macro avg       1.00      1.00      1.00         3\n",
      "weighted avg       1.00      1.00      1.00         3\n",
      "\n"
     ]
    }
   ],
   "source": [
    "from sklearn.metrics import classification_report;\n",
    "print(classification_report(targetPT_train, targetPT_pred_train));\n",
    "print(\"\\r\\n\");\n",
    "print(classification_report(targetPT_test, targetPT_pred_test, zero_division = 1));"
   ]
  },
  {
   "cell_type": "markdown",
   "id": "sacred-forward",
   "metadata": {},
   "source": [
    "<h2> Id3Estimator </h2>"
   ]
  },
  {
   "cell_type": "code",
   "execution_count": 258,
   "id": "secondary-belief",
   "metadata": {},
   "outputs": [],
   "source": [
    "import six\n",
    "import sys\n",
    "sys.modules['sklearn.externals.six'] = six\n",
    "from id3 import Id3Estimator;\n",
    "from id3 import export_text;"
   ]
  },
  {
   "cell_type": "markdown",
   "id": "thorough-buyer",
   "metadata": {},
   "source": [
    "<h3> Breast Cancer Dataset </h3>"
   ]
  },
  {
   "cell_type": "code",
   "execution_count": 259,
   "id": "retired-stopping",
   "metadata": {},
   "outputs": [
    {
     "name": "stdout",
     "output_type": "stream",
     "text": [
      "\n",
      "worst concave points <=0.14\n",
      "|   worst perimeter <=107.75\n",
      "|   |   symmetry error <=0.02\n",
      "|   |   |   radius error <=0.55\n",
      "|   |   |   |   worst texture <=29.76: 1 (64) \n",
      "|   |   |   |   worst texture >29.76\n",
      "|   |   |   |   |   mean texture <=23.24\n",
      "|   |   |   |   |   |   mean radius <=12.51: 1 (2) \n",
      "|   |   |   |   |   |   mean radius >12.51\n",
      "|   |   |   |   |   |   |   worst fractal dimension <=0.07: 1 (1) \n",
      "|   |   |   |   |   |   |   worst fractal dimension >0.07: 0 (3) \n",
      "|   |   |   |   |   mean texture >23.24: 1 (8) \n",
      "|   |   |   radius error >0.55: 0 (2) \n",
      "|   |   symmetry error >0.02: 1 (189) \n",
      "|   worst perimeter >107.75\n",
      "|   |   worst texture <=20.22: 1 (11) \n",
      "|   |   worst texture >20.22\n",
      "|   |   |   mean symmetry <=0.15: 1 (3) \n",
      "|   |   |   mean symmetry >0.15\n",
      "|   |   |   |   mean texture <=24.99: 0 (19) \n",
      "|   |   |   |   mean texture >24.99: 1 (1) \n",
      "worst concave points >0.14\n",
      "|   worst perimeter <=112.80\n",
      "|   |   mean texture <=20.30\n",
      "|   |   |   mean smoothness <=0.11\n",
      "|   |   |   |   worst texture <=26.90: 1 (10) \n",
      "|   |   |   |   worst texture >26.90\n",
      "|   |   |   |   |   mean radius <=13.68: 1 (1) \n",
      "|   |   |   |   |   mean radius >13.68: 0 (2) \n",
      "|   |   |   mean smoothness >0.11: 0 (5) \n",
      "|   |   mean texture >20.30: 0 (12) \n",
      "|   worst perimeter >112.80: 0 (122) \n",
      "\n"
     ]
    }
   ],
   "source": [
    "BC_estimator = Id3Estimator();\n",
    "BC_estimator.fit(dataBC_train, targetBC_train);\n",
    "print(export_text(BC_estimator.tree_, cancer.feature_names));"
   ]
  },
  {
   "cell_type": "code",
   "execution_count": 260,
   "id": "curious-paper",
   "metadata": {},
   "outputs": [
    {
     "name": "stdout",
     "output_type": "stream",
     "text": [
      "Train Accuracy =  1.0\n",
      "Test Accuracy  =  0.9122807017543859\n"
     ]
    }
   ],
   "source": [
    "targetBC_pred_train = BC_estimator.predict(dataBC_train);\n",
    "targetBC_pred_test = BC_estimator.predict(dataBC_test);\n",
    "print(\"Train Accuracy = \", accuracy_score(targetBC_train, targetBC_pred_train));\n",
    "print(\"Test Accuracy  = \", accuracy_score(targetBC_test, targetBC_pred_test));\n"
   ]
  },
  {
   "cell_type": "code",
   "execution_count": 261,
   "id": "tracked-award",
   "metadata": {},
   "outputs": [
    {
     "name": "stdout",
     "output_type": "stream",
     "text": [
      "              precision    recall  f1-score   support\n",
      "\n",
      "           0       1.00      1.00      1.00       165\n",
      "           1       1.00      1.00      1.00       290\n",
      "\n",
      "    accuracy                           1.00       455\n",
      "   macro avg       1.00      1.00      1.00       455\n",
      "weighted avg       1.00      1.00      1.00       455\n",
      "\n",
      "\n",
      "\n",
      "              precision    recall  f1-score   support\n",
      "\n",
      "           0       0.88      0.91      0.90        47\n",
      "           1       0.94      0.91      0.92        67\n",
      "\n",
      "    accuracy                           0.91       114\n",
      "   macro avg       0.91      0.91      0.91       114\n",
      "weighted avg       0.91      0.91      0.91       114\n",
      "\n"
     ]
    }
   ],
   "source": [
    "print(classification_report(targetBC_train, targetBC_pred_train));\n",
    "print(\"\\r\\n\");\n",
    "print(classification_report(targetBC_test, targetBC_pred_test, zero_division = 1));"
   ]
  },
  {
   "cell_type": "markdown",
   "id": "robust-vegetation",
   "metadata": {},
   "source": [
    "<h3> Play Tennis Dataset </h3>"
   ]
  },
  {
   "cell_type": "code",
   "execution_count": 262,
   "id": "protective-cosmetic",
   "metadata": {},
   "outputs": [
    {
     "name": "stdout",
     "output_type": "stream",
     "text": [
      "\n",
      "Outlook <=1.50\n",
      "|   Temprature <=1.00\n",
      "|   |   Wind <=0.50: 0 (1/1) \n",
      "|   |   Wind >0.50: 1 (1) \n",
      "|   Temprature >1.00: 1 (3) \n",
      "Outlook >1.50\n",
      "|   Humidity <=0.50: 0 (3) \n",
      "|   Humidity >0.50: 1 (2) \n",
      "\n"
     ]
    }
   ],
   "source": [
    "PT_estimator = Id3Estimator();\n",
    "PT_estimator.fit(dataPT_train, targetPT_train);\n",
    "print(export_text(PT_estimator.tree_, feature));"
   ]
  },
  {
   "cell_type": "code",
   "execution_count": 263,
   "id": "racial-lesbian",
   "metadata": {},
   "outputs": [
    {
     "name": "stdout",
     "output_type": "stream",
     "text": [
      "Train Accuracy =  0.9090909090909091\n",
      "Test Accuracy  =  0.6666666666666666\n"
     ]
    }
   ],
   "source": [
    "targetPT_pred_train = PT_estimator.predict(dataPT_train);\n",
    "targetPT_pred_test = PT_estimator.predict(dataPT_test);\n",
    "print(\"Train Accuracy = \", accuracy_score(targetPT_train, targetPT_pred_train));\n",
    "print(\"Test Accuracy  = \", accuracy_score(targetPT_test, targetPT_pred_test));\n"
   ]
  },
  {
   "cell_type": "code",
   "execution_count": 264,
   "id": "centered-instrumentation",
   "metadata": {},
   "outputs": [
    {
     "name": "stdout",
     "output_type": "stream",
     "text": [
      "              precision    recall  f1-score   support\n",
      "\n",
      "           0       0.80      1.00      0.89         4\n",
      "           1       1.00      0.86      0.92         7\n",
      "\n",
      "    accuracy                           0.91        11\n",
      "   macro avg       0.90      0.93      0.91        11\n",
      "weighted avg       0.93      0.91      0.91        11\n",
      "\n",
      "\n",
      "\n",
      "              precision    recall  f1-score   support\n",
      "\n",
      "           0       1.00      0.00      0.00         1\n",
      "           1       0.67      1.00      0.80         2\n",
      "\n",
      "    accuracy                           0.67         3\n",
      "   macro avg       0.83      0.50      0.40         3\n",
      "weighted avg       0.78      0.67      0.53         3\n",
      "\n"
     ]
    }
   ],
   "source": [
    "print(classification_report(targetPT_train, targetPT_pred_train));\n",
    "print(\"\\r\\n\");\n",
    "print(classification_report(targetPT_test, targetPT_pred_test, zero_division = 1));"
   ]
  },
  {
   "cell_type": "markdown",
   "id": "timely-officer",
   "metadata": {},
   "source": [
    "<h2> KMeans </h2>"
   ]
  },
  {
   "cell_type": "code",
   "execution_count": 265,
   "id": "accessory-reservoir",
   "metadata": {},
   "outputs": [],
   "source": [
    "from sklearn.cluster import KMeans;"
   ]
  },
  {
   "cell_type": "markdown",
   "id": "helpful-nature",
   "metadata": {},
   "source": [
    "<h3> Breast Cancer Dataset </h3>"
   ]
  },
  {
   "cell_type": "code",
   "execution_count": 271,
   "id": "documented-muslim",
   "metadata": {},
   "outputs": [
    {
     "data": {
      "text/plain": [
       "<matplotlib.collections.PathCollection at 0x7f3f0d39a670>"
      ]
     },
     "execution_count": 271,
     "metadata": {},
     "output_type": "execute_result"
    },
    {
     "data": {
      "image/png": "[encoded data removed]",
      "text/plain": [
       "<Figure size 432x288 with 1 Axes>"
      ]
     },
     "metadata": {
      "needs_background": "light"
     },
     "output_type": "display_data"
    }
   ],
   "source": [
    "BC_kmeans = KMeans(n_clusters = 2, random_state = 0);\n",
    "BC_kmeans.fit(dataBC_train);\n",
    "plt.scatter(dataBC_train[:,0], dataBC_train[:,1], c=BC_kmeans.labels_, cmap='rainbow');\n",
    "plt.scatter(BC_kmeans.cluster_centers_[:,0] ,BC_kmeans.cluster_centers_[:,1], color='black')"
   ]
  },
  {
   "cell_type": "code",
   "execution_count": 272,
   "id": "mathematical-liberty",
   "metadata": {},
   "outputs": [
    {
     "name": "stdout",
     "output_type": "stream",
     "text": [
      "Train Accuracy =  0.14285714285714285\n",
      "Test Accuracy  =  0.18421052631578946\n"
     ]
    }
   ],
   "source": [
    "targetBC_pred_train = BC_kmeans.predict(dataBC_train);\n",
    "targetBC_pred_test = BC_kmeans.predict(dataBC_test);\n",
    "print(\"Train Accuracy = \", accuracy_score(targetBC_train, targetBC_pred_train));\n",
    "print(\"Test Accuracy  = \", accuracy_score(targetBC_test, targetBC_pred_test));\n"
   ]
  },
  {
   "cell_type": "code",
   "execution_count": 273,
   "id": "intensive-sending",
   "metadata": {},
   "outputs": [
    {
     "name": "stdout",
     "output_type": "stream",
     "text": [
      "              precision    recall  f1-score   support\n",
      "\n",
      "           0       0.18      0.39      0.25       165\n",
      "           1       0.01      0.00      0.01       290\n",
      "\n",
      "    accuracy                           0.14       455\n",
      "   macro avg       0.10      0.20      0.13       455\n",
      "weighted avg       0.07      0.14      0.09       455\n",
      "\n",
      "\n",
      "\n",
      "              precision    recall  f1-score   support\n",
      "\n",
      "           0       0.24      0.45      0.31        47\n",
      "           1       0.00      0.00      0.00        67\n",
      "\n",
      "    accuracy                           0.18       114\n",
      "   macro avg       0.12      0.22      0.16       114\n",
      "weighted avg       0.10      0.18      0.13       114\n",
      "\n"
     ]
    }
   ],
   "source": [
    "print(classification_report(targetBC_train, targetBC_pred_train, zero_division = 1));\n",
    "print(\"\\r\\n\");\n",
    "print(classification_report(targetBC_test, targetBC_pred_test, zero_division = 1));"
   ]
  },
  {
   "cell_type": "markdown",
   "id": "crazy-affiliate",
   "metadata": {},
   "source": [
    "<h3> Play Tennis Dataset </h3>"
   ]
  },
  {
   "cell_type": "code",
   "execution_count": 281,
   "id": "smoking-training",
   "metadata": {},
   "outputs": [
    {
     "data": {
      "text/plain": [
       "<matplotlib.collections.PathCollection at 0x7f3f0d060460>"
      ]
     },
     "execution_count": 281,
     "metadata": {},
     "output_type": "execute_result"
    },
    {
     "data": {
      "image/png": "[encoded data removed]",
      "text/plain": [
       "<Figure size 432x288 with 1 Axes>"
      ]
     },
     "metadata": {
      "needs_background": "light"
     },
     "output_type": "display_data"
    }
   ],
   "source": [
    "PT_kmeans = KMeans(n_clusters = 2, random_state = 0);\n",
    "dataPT_train_array = np.array(dataPT_train);\n",
    "PT_kmeans.fit(dataPT_train_array);\n",
    "plt.scatter(dataPT_train_array[:,0], dataPT_train_array[:,1], c=PT_kmeans.labels_, cmap='rainbow');\n",
    "plt.scatter(PT_kmeans.cluster_centers_[:,0] ,PT_kmeans.cluster_centers_[:,1], color='black')"
   ]
  },
  {
   "cell_type": "code",
   "execution_count": 282,
   "id": "expensive-customer",
   "metadata": {},
   "outputs": [
    {
     "name": "stdout",
     "output_type": "stream",
     "text": [
      "Train Accuracy =  0.5454545454545454\n",
      "Test Accuracy  =  0.6666666666666666\n"
     ]
    }
   ],
   "source": [
    "targetPT_pred_train = PT_kmeans.predict(dataPT_train);\n",
    "targetPT_pred_test = PT_kmeans.predict(dataPT_test);\n",
    "print(\"Train Accuracy = \", accuracy_score(targetPT_train, targetPT_pred_train));\n",
    "print(\"Test Accuracy  = \", accuracy_score(targetPT_test, targetPT_pred_test));\n"
   ]
  },
  {
   "cell_type": "code",
   "execution_count": 283,
   "id": "single-fossil",
   "metadata": {},
   "outputs": [
    {
     "name": "stdout",
     "output_type": "stream",
     "text": [
      "              precision    recall  f1-score   support\n",
      "\n",
      "           0       0.43      0.75      0.55         4\n",
      "           1       0.75      0.43      0.55         7\n",
      "\n",
      "    accuracy                           0.55        11\n",
      "   macro avg       0.59      0.59      0.55        11\n",
      "weighted avg       0.63      0.55      0.55        11\n",
      "\n",
      "\n",
      "\n",
      "              precision    recall  f1-score   support\n",
      "\n",
      "           0       0.50      1.00      0.67         1\n",
      "           1       1.00      0.50      0.67         2\n",
      "\n",
      "    accuracy                           0.67         3\n",
      "   macro avg       0.75      0.75      0.67         3\n",
      "weighted avg       0.83      0.67      0.67         3\n",
      "\n"
     ]
    }
   ],
   "source": [
    "print(classification_report(targetPT_train, targetPT_pred_train, zero_division = 1));\n",
    "print(\"\\r\\n\");\n",
    "print(classification_report(targetPT_test, targetPT_pred_test, zero_division = 1));"
   ]
  },
  {
   "cell_type": "markdown",
   "id": "resident-yellow",
   "metadata": {},
   "source": [
    "<h2> Logistic Regression </h2>"
   ]
  },
  {
   "cell_type": "code",
   "execution_count": 284,
   "id": "engaging-compact",
   "metadata": {},
   "outputs": [],
   "source": [
    "from sklearn.linear_model import LogisticRegression;\n",
    "from sklearn.preprocessing import StandardScaler;"
   ]
  },
  {
   "cell_type": "code",
   "execution_count": 285,
   "id": "toxic-oasis",
   "metadata": {},
   "outputs": [],
   "source": [
    "sc = StandardScaler();\n",
    "X_BC_train_sc = sc.fit(dataBC_train).transform(dataBC_train);\n",
    "X_BC_test_sc = sc.fit(dataBC_test).transform(dataBC_test);\n",
    "\n",
    "X_PT_train_sc = sc.fit(dataPT_train).transform(dataPT_train);\n",
    "X_PT_test_sc = sc.fit(dataPT_test).transform(dataPT_test);"
   ]
  },
  {
   "cell_type": "markdown",
   "id": "satisfied-satisfaction",
   "metadata": {},
   "source": [
    "<h3> Breast Cancer Dataset </h3>"
   ]
  },
  {
   "cell_type": "code",
   "execution_count": 286,
   "id": "unsigned-rider",
   "metadata": {},
   "outputs": [],
   "source": [
    "BC_lr = LogisticRegression(penalty = 'l2', solver = \"lbfgs\", C = 1, random_state = 0);\n",
    "BC_lr.fit(X_BC_train_sc, targetBC_train);"
   ]
  },
  {
   "cell_type": "code",
   "execution_count": 287,
   "id": "pleased-selling",
   "metadata": {},
   "outputs": [
    {
     "name": "stdout",
     "output_type": "stream",
     "text": [
      "Train Accuracy =  0.989010989010989\n",
      "Test Accuracy  =  0.956140350877193\n"
     ]
    }
   ],
   "source": [
    "targetBC_pred_train = BC_lr.predict(X_BC_train_sc);\n",
    "targetBC_pred_test = BC_lr.predict(X_BC_test_sc);\n",
    "print(\"Train Accuracy = \", BC_lr.score(X_BC_train_sc, targetBC_train));\n",
    "print(\"Test Accuracy  = \", BC_lr.score(X_BC_test_sc, targetBC_test));"
   ]
  },
  {
   "cell_type": "code",
   "execution_count": 288,
   "id": "historic-farmer",
   "metadata": {},
   "outputs": [
    {
     "name": "stdout",
     "output_type": "stream",
     "text": [
      "              precision    recall  f1-score   support\n",
      "\n",
      "           0       0.99      0.98      0.98       165\n",
      "           1       0.99      1.00      0.99       290\n",
      "\n",
      "    accuracy                           0.99       455\n",
      "   macro avg       0.99      0.99      0.99       455\n",
      "weighted avg       0.99      0.99      0.99       455\n",
      "\n",
      "\n",
      "\n",
      "              precision    recall  f1-score   support\n",
      "\n",
      "           0       0.96      0.94      0.95        47\n",
      "           1       0.96      0.97      0.96        67\n",
      "\n",
      "    accuracy                           0.96       114\n",
      "   macro avg       0.96      0.95      0.95       114\n",
      "weighted avg       0.96      0.96      0.96       114\n",
      "\n"
     ]
    }
   ],
   "source": [
    "print(classification_report(targetBC_train, targetBC_pred_train, zero_division = 1));\n",
    "print(\"\\r\\n\");\n",
    "print(classification_report(targetBC_test, targetBC_pred_test, zero_division = 1));"
   ]
  },
  {
   "cell_type": "markdown",
   "id": "moral-lebanon",
   "metadata": {},
   "source": [
    "<h3> Play Tennis Dataset </h3>"
   ]
  },
  {
   "cell_type": "code",
   "execution_count": 289,
   "id": "exclusive-arbor",
   "metadata": {},
   "outputs": [],
   "source": [
    "PT_lr = LogisticRegression(penalty = 'l2', solver = \"lbfgs\", C = 1, random_state = 0);\n",
    "PT_lr.fit(X_PT_train_sc, targetPT_train);"
   ]
  },
  {
   "cell_type": "code",
   "execution_count": 290,
   "id": "behavioral-stations",
   "metadata": {},
   "outputs": [
    {
     "name": "stdout",
     "output_type": "stream",
     "text": [
      "Train Accuracy =  0.9090909090909091\n",
      "Test Accuracy  =  1.0\n"
     ]
    }
   ],
   "source": [
    "targetPT_pred_train = PT_lr.predict(X_PT_train_sc);\n",
    "targetPT_pred_test = PT_lr.predict(X_PT_test_sc);\n",
    "print(\"Train Accuracy = \", PT_lr.score(X_PT_train_sc, targetPT_train));\n",
    "print(\"Test Accuracy  = \", PT_lr.score(X_PT_test_sc, targetPT_test));"
   ]
  },
  {
   "cell_type": "code",
   "execution_count": 291,
   "id": "reasonable-extension",
   "metadata": {},
   "outputs": [
    {
     "name": "stdout",
     "output_type": "stream",
     "text": [
      "              precision    recall  f1-score   support\n",
      "\n",
      "           0       1.00      0.75      0.86         4\n",
      "           1       0.88      1.00      0.93         7\n",
      "\n",
      "    accuracy                           0.91        11\n",
      "   macro avg       0.94      0.88      0.90        11\n",
      "weighted avg       0.92      0.91      0.91        11\n",
      "\n",
      "\n",
      "\n",
      "              precision    recall  f1-score   support\n",
      "\n",
      "           0       1.00      1.00      1.00         1\n",
      "           1       1.00      1.00      1.00         2\n",
      "\n",
      "    accuracy                           1.00         3\n",
      "   macro avg       1.00      1.00      1.00         3\n",
      "weighted avg       1.00      1.00      1.00         3\n",
      "\n"
     ]
    }
   ],
   "source": [
    "print(classification_report(targetPT_train, targetPT_pred_train, zero_division = 1));\n",
    "print(\"\\r\\n\");\n",
    "print(classification_report(targetPT_test, targetPT_pred_test, zero_division = 1));"
   ]
  },
  {
   "cell_type": "markdown",
   "id": "social-generation",
   "metadata": {},
   "source": [
    "<h2> Neural Network </h2>"
   ]
  },
  {
   "cell_type": "code",
   "execution_count": 293,
   "id": "circular-black",
   "metadata": {},
   "outputs": [],
   "source": [
    "from sklearn.neural_network import MLPClassifier"
   ]
  },
  {
   "cell_type": "markdown",
   "id": "laden-nebraska",
   "metadata": {},
   "source": [
    "<h3> Breast Cancer Dataset </h3>"
   ]
  },
  {
   "cell_type": "code",
   "execution_count": 295,
   "id": "corporate-inside",
   "metadata": {},
   "outputs": [],
   "source": [
    "BC_mlp = MLPClassifier(max_iter =1000, random_state = 42);\n",
    "BC_mlp.fit(X_BC_train_sc, targetBC_train);"
   ]
  },
  {
   "cell_type": "code",
   "execution_count": 296,
   "id": "latin-repair",
   "metadata": {},
   "outputs": [
    {
     "name": "stdout",
     "output_type": "stream",
     "text": [
      "Train Accuracy =  0.9978021978021978\n",
      "Test Accuracy  =  0.956140350877193\n"
     ]
    }
   ],
   "source": [
    "targetBC_pred_train = BC_mlp.predict(X_BC_train_sc);\n",
    "targetBC_pred_test = BC_mlp.predict(X_BC_test_sc);\n",
    "print(\"Train Accuracy = \", BC_mlp.score(X_BC_train_sc, targetBC_train));\n",
    "print(\"Test Accuracy  = \", BC_mlp.score(X_BC_test_sc, targetBC_test));"
   ]
  },
  {
   "cell_type": "code",
   "execution_count": 297,
   "id": "activated-virtue",
   "metadata": {},
   "outputs": [
    {
     "name": "stdout",
     "output_type": "stream",
     "text": [
      "              precision    recall  f1-score   support\n",
      "\n",
      "           0       1.00      0.99      1.00       165\n",
      "           1       1.00      1.00      1.00       290\n",
      "\n",
      "    accuracy                           1.00       455\n",
      "   macro avg       1.00      1.00      1.00       455\n",
      "weighted avg       1.00      1.00      1.00       455\n",
      "\n",
      "\n",
      "\n",
      "              precision    recall  f1-score   support\n",
      "\n",
      "           0       0.96      0.94      0.95        47\n",
      "           1       0.96      0.97      0.96        67\n",
      "\n",
      "    accuracy                           0.96       114\n",
      "   macro avg       0.96      0.95      0.95       114\n",
      "weighted avg       0.96      0.96      0.96       114\n",
      "\n"
     ]
    }
   ],
   "source": [
    "print(classification_report(targetBC_train, targetBC_pred_train, zero_division = 1));\n",
    "print(\"\\r\\n\");\n",
    "print(classification_report(targetBC_test, targetBC_pred_test, zero_division = 1));"
   ]
  },
  {
   "cell_type": "markdown",
   "id": "instant-illness",
   "metadata": {},
   "source": [
    "<h3> Play Tennis Dataset </h3>"
   ]
  },
  {
   "cell_type": "code",
   "execution_count": 298,
   "id": "located-begin",
   "metadata": {},
   "outputs": [],
   "source": [
    "PT_mlp = MLPClassifier(max_iter =1000, random_state = 42);\n",
    "PT_mlp.fit(X_PT_train_sc, targetPT_train);"
   ]
  },
  {
   "cell_type": "code",
   "execution_count": 299,
   "id": "selected-universal",
   "metadata": {},
   "outputs": [
    {
     "name": "stdout",
     "output_type": "stream",
     "text": [
      "Train Accuracy =  1.0\n",
      "Test Accuracy  =  1.0\n"
     ]
    }
   ],
   "source": [
    "targetPT_pred_train = PT_mlp.predict(X_PT_train_sc);\n",
    "targetPT_pred_test = PT_mlp.predict(X_PT_test_sc);\n",
    "print(\"Train Accuracy = \", PT_mlp.score(X_PT_train_sc, targetPT_train));\n",
    "print(\"Test Accuracy  = \", PT_mlp.score(X_PT_test_sc, targetPT_test));"
   ]
  },
  {
   "cell_type": "code",
   "execution_count": 300,
   "id": "compatible-assurance",
   "metadata": {},
   "outputs": [
    {
     "name": "stdout",
     "output_type": "stream",
     "text": [
      "              precision    recall  f1-score   support\n",
      "\n",
      "           0       1.00      1.00      1.00         4\n",
      "           1       1.00      1.00      1.00         7\n",
      "\n",
      "    accuracy                           1.00        11\n",
      "   macro avg       1.00      1.00      1.00        11\n",
      "weighted avg       1.00      1.00      1.00        11\n",
      "\n",
      "\n",
      "\n",
      "              precision    recall  f1-score   support\n",
      "\n",
      "           0       1.00      1.00      1.00         1\n",
      "           1       1.00      1.00      1.00         2\n",
      "\n",
      "    accuracy                           1.00         3\n",
      "   macro avg       1.00      1.00      1.00         3\n",
      "weighted avg       1.00      1.00      1.00         3\n",
      "\n"
     ]
    }
   ],
   "source": [
    "print(classification_report(targetPT_train, targetPT_pred_train, zero_division = 1));\n",
    "print(\"\\r\\n\");\n",
    "print(classification_report(targetPT_test, targetPT_pred_test, zero_division = 1));"
   ]
  },
  {
   "cell_type": "markdown",
   "id": "lyric-german",
   "metadata": {},
   "source": [
    "<h2> SVM </h2>"
   ]
  },
  {
   "cell_type": "code",
   "execution_count": 301,
   "id": "identified-murray",
   "metadata": {},
   "outputs": [],
   "source": [
    "from sklearn.svm import SVC;"
   ]
  },
  {
   "cell_type": "markdown",
   "id": "driving-gibson",
   "metadata": {},
   "source": [
    "<h3> Breast Cancer Dataset </h3>"
   ]
  },
  {
   "cell_type": "code",
   "execution_count": 302,
   "id": "vulnerable-retreat",
   "metadata": {},
   "outputs": [],
   "source": [
    "BC_svm = SVC();\n",
    "BC_svm.fit(X_BC_train_sc, targetBC_train);"
   ]
  },
  {
   "cell_type": "code",
   "execution_count": 303,
   "id": "optimum-double",
   "metadata": {},
   "outputs": [
    {
     "name": "stdout",
     "output_type": "stream",
     "text": [
      "Train Accuracy =  0.9846153846153847\n",
      "Test Accuracy  =  0.9824561403508771\n"
     ]
    }
   ],
   "source": [
    "targetBC_pred_train = BC_svm.predict(X_BC_train_sc);\n",
    "targetBC_pred_test = BC_svm.predict(X_BC_test_sc);\n",
    "print(\"Train Accuracy = \", BC_svm.score(X_BC_train_sc, targetBC_train));\n",
    "print(\"Test Accuracy  = \", BC_svm.score(X_BC_test_sc, targetBC_test));"
   ]
  },
  {
   "cell_type": "code",
   "execution_count": 304,
   "id": "fewer-lending",
   "metadata": {},
   "outputs": [
    {
     "name": "stdout",
     "output_type": "stream",
     "text": [
      "              precision    recall  f1-score   support\n",
      "\n",
      "           0       0.99      0.96      0.98       165\n",
      "           1       0.98      1.00      0.99       290\n",
      "\n",
      "    accuracy                           0.98       455\n",
      "   macro avg       0.99      0.98      0.98       455\n",
      "weighted avg       0.98      0.98      0.98       455\n",
      "\n",
      "\n",
      "\n",
      "              precision    recall  f1-score   support\n",
      "\n",
      "           0       1.00      0.96      0.98        47\n",
      "           1       0.97      1.00      0.99        67\n",
      "\n",
      "    accuracy                           0.98       114\n",
      "   macro avg       0.99      0.98      0.98       114\n",
      "weighted avg       0.98      0.98      0.98       114\n",
      "\n"
     ]
    }
   ],
   "source": [
    "print(classification_report(targetBC_train, targetBC_pred_train, zero_division = 1));\n",
    "print(\"\\r\\n\");\n",
    "print(classification_report(targetBC_test, targetBC_pred_test, zero_division = 1));"
   ]
  },
  {
   "cell_type": "markdown",
   "id": "pleased-newton",
   "metadata": {},
   "source": [
    "<h3> Play Tennis Dataset </h3>"
   ]
  },
  {
   "cell_type": "code",
   "execution_count": 305,
   "id": "gentle-belize",
   "metadata": {},
   "outputs": [],
   "source": [
    "PT_svm = SVC();\n",
    "PT_svm.fit(X_PT_train_sc, targetPT_train);"
   ]
  },
  {
   "cell_type": "code",
   "execution_count": 306,
   "id": "continental-institution",
   "metadata": {},
   "outputs": [
    {
     "name": "stdout",
     "output_type": "stream",
     "text": [
      "Train Accuracy =  0.9090909090909091\n",
      "Test Accuracy  =  0.6666666666666666\n"
     ]
    }
   ],
   "source": [
    "targetPT_pred_train = PT_svm.predict(X_PT_train_sc);\n",
    "targetPT_pred_test = PT_svm.predict(X_PT_test_sc);\n",
    "print(\"Train Accuracy = \", PT_svm.score(X_PT_train_sc, targetPT_train));\n",
    "print(\"Test Accuracy  = \", PT_svm.score(X_PT_test_sc, targetPT_test));"
   ]
  },
  {
   "cell_type": "code",
   "execution_count": 307,
   "id": "whole-window",
   "metadata": {},
   "outputs": [
    {
     "name": "stdout",
     "output_type": "stream",
     "text": [
      "              precision    recall  f1-score   support\n",
      "\n",
      "           0       1.00      0.75      0.86         4\n",
      "           1       0.88      1.00      0.93         7\n",
      "\n",
      "    accuracy                           0.91        11\n",
      "   macro avg       0.94      0.88      0.90        11\n",
      "weighted avg       0.92      0.91      0.91        11\n",
      "\n",
      "\n",
      "\n",
      "              precision    recall  f1-score   support\n",
      "\n",
      "           0       1.00      0.00      0.00         1\n",
      "           1       0.67      1.00      0.80         2\n",
      "\n",
      "    accuracy                           0.67         3\n",
      "   macro avg       0.83      0.50      0.40         3\n",
      "weighted avg       0.78      0.67      0.53         3\n",
      "\n"
     ]
    }
   ],
   "source": [
    "print(classification_report(targetPT_train, targetPT_pred_train, zero_division = 1));\n",
    "print(\"\\r\\n\");\n",
    "print(classification_report(targetPT_test, targetPT_pred_test, zero_division = 1));"
   ]
  },
  {
   "cell_type": "code",
   "execution_count": null,
   "id": "impressed-prevention",
   "metadata": {},
   "outputs": [],
   "source": []
  }
 ],
 "metadata": {
  "kernelspec": {
   "display_name": "Python 3",
   "language": "python",
   "name": "python3"
  },
  "language_info": {
   "codemirror_mode": {
    "name": "ipython",
    "version": 3
   },
   "file_extension": ".py",
   "mimetype": "text/x-python",
   "name": "python",
   "nbconvert_exporter": "python",
   "pygments_lexer": "ipython3",
   "version": "3.8.5"
  }
 },
 "nbformat": 4,
 "nbformat_minor": 5
}
